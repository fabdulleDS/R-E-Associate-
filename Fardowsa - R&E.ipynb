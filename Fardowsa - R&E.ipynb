{
  "metadata": {
    "kernelspec": {
      "name": "python",
      "display_name": "Python (Pyodide)",
      "language": "python"
    },
    "language_info": {
      "codemirror_mode": {
        "name": "python",
        "version": 3
      },
      "file_extension": ".py",
      "mimetype": "text/x-python",
      "name": "python",
      "nbconvert_exporter": "python",
      "pygments_lexer": "ipython3",
      "version": "3.8"
    }
  },
  "nbformat_minor": 4,
  "nbformat": 4,
  "cells": [
    {
      "cell_type": "code",
      "source": "import pandas as pd",
      "metadata": {
        "trusted": true
      },
      "outputs": [],
      "execution_count": 1
    },
    {
      "cell_type": "code",
      "source": "#loading particants csv and goals csv into different dataframes",
      "metadata": {
        "trusted": true
      },
      "outputs": [],
      "execution_count": 9
    },
    {
      "cell_type": "code",
      "source": "participants_data = pd.read_csv(\"Participants.csv\")",
      "metadata": {
        "trusted": true
      },
      "outputs": [],
      "execution_count": 2
    },
    {
      "cell_type": "code",
      "source": "goals_data = pd.read_csv(\"Goals.csv\")",
      "metadata": {
        "trusted": true
      },
      "outputs": [],
      "execution_count": 3
    },
    {
      "cell_type": "code",
      "source": "#printing to ensure dataframes are accurately captured",
      "metadata": {
        "trusted": true
      },
      "outputs": [],
      "execution_count": 10
    },
    {
      "cell_type": "code",
      "source": "print(participants_data.head)",
      "metadata": {
        "trusted": true
      },
      "outputs": [
        {
          "name": "stdout",
          "text": "<bound method NDFrame.head of     ID  Start Date  Exit Date Date of first employment assessment  \\\n0    1  10/25/2023        NaN                                 NaN   \n1    2   9/12/2023        NaN                          11/14/2023   \n2    3   9/12/2023        NaN                          11/20/2023   \n3    4   9/13/2023        NaN                          11/28/2023   \n4    5   9/18/2023        NaN                          10/30/2023   \n5    6   9/18/2023        NaN                          12/14/2023   \n6    7   9/18/2023        NaN                          10/18/2023   \n7    8   9/18/2023        NaN                           12/5/2023   \n8    9   9/19/2023        NaN                          10/18/2023   \n9   10   9/19/2023        NaN                          10/24/2023   \n10  11   9/20/2023        NaN                          11/30/2023   \n11  12   9/20/2023        NaN                          12/29/2023   \n12  13   9/21/2023        NaN                          10/19/2023   \n13  14   9/20/2023        NaN                          11/22/2023   \n14  15   9/21/2023        NaN                          12/28/2023   \n15  16   9/25/2023        NaN                          12/30/2023   \n16  17   9/25/2023        NaN                          10/18/2023   \n17  18   9/26/2023  4/25/2024                          10/25/2023   \n18  19   9/26/2023        NaN                          10/31/2023   \n19  20   9/27/2023        NaN                          10/25/2023   \n20  21   9/25/2023        NaN                          11/30/2023   \n21  22   9/20/2023        NaN                          11/27/2023   \n22  23   9/21/2023        NaN                          12/28/2023   \n23  24   9/26/2023        NaN                          11/30/2023   \n24  25   10/2/2023        NaN                          10/28/2023   \n25  26   10/9/2023        NaN                          10/25/2023   \n26  27   10/9/2023  2/15/2024                          11/22/2023   \n27  28   10/9/2023        NaN                          11/15/2023   \n28  29  10/10/2023        NaN                          11/21/2023   \n29  30   10/4/2023        NaN                          12/28/2023   \n30  31  10/25/2023        NaN                            1/4/2024   \n31  32  10/25/2023        NaN                          11/30/2023   \n32  33  10/26/2023        NaN                            2/6/2024   \n33  34  10/30/2023        NaN                            1/8/2024   \n34  35  10/31/2023        NaN                          12/27/2023   \n35  36  11/14/2023        NaN                           1/11/2024   \n36  37  11/21/2023        NaN                            2/6/2024   \n37  38  11/29/2023        NaN                          12/20/2023   \n38  39   12/4/2023        NaN                           12/6/2023   \n39  40  12/14/2023        NaN                          12/21/2023   \n\n   Employed (first assessment) Date of most recent employment assessment  \\\n0                          NaN                                       NaN   \n1                           No                                 4/24/2024   \n2                          Yes                                  4/1/2024   \n3                          Yes                                12/20/2024   \n4                           No                                  4/3/2024   \n5                          Yes                                  5/9/2024   \n6                           No                                 5/15/2024   \n7                          Yes                                  5/6/2024   \n8                           No                                 5/21/2024   \n9                           No                                 5/20/2024   \n10                          No                                 5/22/2024   \n11                         Yes                                 4/30/2024   \n12                         Yes                                  5/7/2024   \n13                         Yes                                 4/18/2024   \n14                         Yes                                 5/15/2024   \n15                         Yes                                 5/22/2024   \n16                          No                                  5/7/2024   \n17                          No                                 4/29/2024   \n18                          No                                  5/2/2024   \n19                         Yes                                 4/10/2024   \n20                         Yes                                 5/22/2024   \n21                         Yes                                 5/13/2024   \n22                          No                                  5/9/2024   \n23                         NaN                                 5/15/2024   \n24                         Yes                                 4/25/2024   \n25                          No                                 4/11/2024   \n26                         Yes                                 2/22/2024   \n27                          No                                 4/17/2024   \n28                         Yes                                 5/15/2024   \n29                          No                                 5/21/2024   \n30                          No                                 5/22/2024   \n31                         Yes                                 4/24/2024   \n32                         Yes                                 4/30/2024   \n33                         Yes                                 4/30/2024   \n34                         NaN                                 5/15/2024   \n35                         Yes                                 4/29/2024   \n36                         Yes                                 5/14/2024   \n37                         NaN                                  4/3/2024   \n38                          No                                 5/15/2024   \n39                          No                                  4/9/2024   \n\n   Employed (most recent assessment)  \n0                                NaN  \n1                                 No  \n2                                 No  \n3                                Yes  \n4                                 No  \n5                                Yes  \n6                                 No  \n7                                Yes  \n8                                 No  \n9                                 No  \n10                               Yes  \n11                               Yes  \n12                               Yes  \n13                               Yes  \n14                                No  \n15                               Yes  \n16                                No  \n17                               NaN  \n18                                No  \n19                               Yes  \n20                               Yes  \n21                               Yes  \n22                                No  \n23                               Yes  \n24                               Yes  \n25                                No  \n26                               NaN  \n27                                No  \n28                               Yes  \n29                               Yes  \n30                                No  \n31                               Yes  \n32                               Yes  \n33                               Yes  \n34                                No  \n35                               Yes  \n36                               Yes  \n37                                No  \n38                               Yes  \n39                                No  >\n",
          "output_type": "stream"
        }
      ],
      "execution_count": 5
    },
    {
      "cell_type": "code",
      "source": "print(goals_data.head)",
      "metadata": {
        "trusted": true
      },
      "outputs": [
        {
          "name": "stdout",
          "text": "<bound method NDFrame.head of      ID Date Goal Set          Bridge Pillar of Goal Goal Achieved?\n0     2    10/24/2023           Education & Training            NaN\n1     2    10/17/2023  Financial Management: Savings            NaN\n2     2    12/26/2023            Employment & Career             No\n3     2     3/20/2024            Employment & Career            NaN\n4     2     4/24/2024           Education & Training            NaN\n..   ..           ...                            ...            ...\n105  37      2/6/2024      Family Stability: Housing            Yes\n106  37     2/27/2024           Education & Training             No\n107  37     5/14/2024            Employment & Career            NaN\n108  39     2/26/2024             Well-Being: Health            NaN\n109  40     1/30/2024            Employment & Career            NaN\n\n[110 rows x 4 columns]>\n",
          "output_type": "stream"
        }
      ],
      "execution_count": 6
    },
    {
      "cell_type": "code",
      "source": "#Answering: how many individual participants did NON set at least one goal?",
      "metadata": {
        "trusted": true
      },
      "outputs": [],
      "execution_count": null
    },
    {
      "cell_type": "code",
      "source": "non_participants = set(participants_data[\"ID\"]) - set(goals_data[\"ID\"])\nprint(non_participants)",
      "metadata": {
        "trusted": true
      },
      "outputs": [
        {
          "name": "stdout",
          "text": "{1, 18, 27, 38}\n",
          "output_type": "stream"
        }
      ],
      "execution_count": 8
    },
    {
      "cell_type": "code",
      "source": "#Since only 4 participants did not set at least one goal, we know that 36 participants did.",
      "metadata": {
        "trusted": true
      },
      "outputs": [],
      "execution_count": 11
    },
    {
      "cell_type": "code",
      "source": "goals_set = 36/40\nprint(goals_set)",
      "metadata": {
        "trusted": true
      },
      "outputs": [
        {
          "name": "stdout",
          "text": "0.9\n",
          "output_type": "stream"
        }
      ],
      "execution_count": 17
    },
    {
      "cell_type": "code",
      "source": "#Answering: how many participants achieved at least one goal?",
      "metadata": {
        "trusted": true
      },
      "outputs": [],
      "execution_count": 18
    },
    {
      "cell_type": "code",
      "source": "counts = goals_data[\"Goal Achieved?\"].value_counts()\nprint(counts)",
      "metadata": {
        "trusted": true
      },
      "outputs": [
        {
          "name": "stdout",
          "text": "Yes    48\nNo      8\nName: Goal Achieved?, dtype: int64\n",
          "output_type": "stream"
        }
      ],
      "execution_count": 23
    },
    {
      "cell_type": "code",
      "source": "yes_goals = goals_data[goals_data.values  == \"Yes\"]\nprint(yes_goals)",
      "metadata": {
        "trusted": true
      },
      "outputs": [
        {
          "name": "stdout",
          "text": "     ID Date Goal Set          Bridge Pillar of Goal Goal Achieved?\n5     3      1/3/2024    Financial Management: Debts            Yes\n8     4     11/2/2023  Financial Management: Savings            Yes\n9     4     1/16/2024             Well-Being: Health            Yes\n12    5     11/6/2023             Well-Being: Social            Yes\n14    5     2/12/2024             Well-Being: Health            Yes\n16    5     4/30/2024           Education & Training            Yes\n18    7    10/11/2023    Financial Management: Debts            Yes\n19    7    12/13/2023  Financial Management: Savings            Yes\n26   10     2/27/2024             Well-Being: Health            Yes\n31   12      1/9/2024             Well-Being: Health            Yes\n32   12      2/8/2024  Financial Management: Savings            Yes\n33   12      3/5/2024            Employment & Career            Yes\n34   12      4/2/2024   Family Stability: Dependents            Yes\n35   13    11/21/2023    Financial Management: Debts            Yes\n36   13     1/29/2024            Employment & Career            Yes\n37   13     3/12/2024      Family Stability: Housing            Yes\n38   13      4/1/2024      Family Stability: Housing            Yes\n39   14     1/30/2024  Financial Management: Savings            Yes\n46   16     2/21/2024             Well-Being: Health            Yes\n47   16     4/30/2024             Well-Being: Health            Yes\n50   17    10/23/2023            Employment & Career            Yes\n51   17    11/27/2023            Employment & Career            Yes\n52   17     1/24/2024             Well-Being: Health            Yes\n54   17     3/19/2024      Family Stability: Housing            Yes\n56   19    11/28/2023    Financial Management: Debts            Yes\n57   19      1/8/2024           Education & Training            Yes\n58   19     2/12/2024      Family Stability: Housing            Yes\n59   19     3/14/2024   Family Stability: Dependents            Yes\n60   19      5/2/2024           Education & Training            Yes\n61   20    10/19/2023            Employment & Career            Yes\n62   20      1/2/2024             Well-Being: Health            Yes\n64   20      3/6/2024             Well-Being: Health            Yes\n66   20     3/28/2024             Well-Being: Health            Yes\n67   21      1/8/2024            Employment & Career            Yes\n68   21     1/24/2024             Well-Being: Health            Yes\n69   21     1/31/2024            Employment & Career            Yes\n76   24     4/24/2024   Family Stability: Dependents            Yes\n79   26    10/24/2023             Well-Being: Social            Yes\n80   26    11/28/2023            Employment & Career            Yes\n81   26     2/29/2024            Employment & Career            Yes\n83   28     12/6/2023            Employment & Career            Yes\n86   29    12/12/2023           Education & Training            Yes\n90   29      2/6/2024   Family Stability: Dependents            Yes\n94   31      3/4/2024             Well-Being: Health            Yes\n95   32      2/8/2024            Employment & Career            Yes\n98   34      1/8/2024   Family Stability: Dependents            Yes\n99   34     2/12/2024  Financial Management: Savings            Yes\n105  37      2/6/2024      Family Stability: Housing            Yes\n",
          "output_type": "stream"
        }
      ],
      "execution_count": 28
    },
    {
      "cell_type": "code",
      "source": "n = len(pd.unique(yes_goals['ID']))\nprint(\"No.of.unique values :\", \n      n)",
      "metadata": {
        "trusted": true
      },
      "outputs": [
        {
          "name": "stdout",
          "text": "No.of.unique values : 21\n",
          "output_type": "stream"
        }
      ],
      "execution_count": 29
    },
    {
      "cell_type": "code",
      "source": "total_yes = 21/40\nprint(total_yes)",
      "metadata": {
        "trusted": true
      },
      "outputs": [
        {
          "name": "stdout",
          "text": "0.525\n",
          "output_type": "stream"
        }
      ],
      "execution_count": 30
    },
    {
      "cell_type": "code",
      "source": "#Now evaluating if participants are gaining employment from the program. ",
      "metadata": {
        "trusted": true
      },
      "outputs": [],
      "execution_count": 31
    },
    {
      "cell_type": "code",
      "source": "#We can do this by comparing what the participants answered in the intial assessment to the most recent assessment.",
      "metadata": {
        "trusted": true
      },
      "outputs": [],
      "execution_count": 32
    },
    {
      "cell_type": "code",
      "source": "program_goals = participants_data[['ID','Employed (first assessment)','Employed (most recent assessment)']]\nprint(program_goals)",
      "metadata": {
        "trusted": true
      },
      "outputs": [
        {
          "name": "stdout",
          "text": "    ID Employed (first assessment) Employed (most recent assessment)\n0    1                         NaN                               NaN\n1    2                          No                                No\n2    3                         Yes                                No\n3    4                         Yes                               Yes\n4    5                          No                                No\n5    6                         Yes                               Yes\n6    7                          No                                No\n7    8                         Yes                               Yes\n8    9                          No                                No\n9   10                          No                                No\n10  11                          No                               Yes\n11  12                         Yes                               Yes\n12  13                         Yes                               Yes\n13  14                         Yes                               Yes\n14  15                         Yes                                No\n15  16                         Yes                               Yes\n16  17                          No                                No\n17  18                          No                               NaN\n18  19                          No                                No\n19  20                         Yes                               Yes\n20  21                         Yes                               Yes\n21  22                         Yes                               Yes\n22  23                          No                                No\n23  24                         NaN                               Yes\n24  25                         Yes                               Yes\n25  26                          No                                No\n26  27                         Yes                               NaN\n27  28                          No                                No\n28  29                         Yes                               Yes\n29  30                          No                               Yes\n30  31                          No                                No\n31  32                         Yes                               Yes\n32  33                         Yes                               Yes\n33  34                         Yes                               Yes\n34  35                         NaN                                No\n35  36                         Yes                               Yes\n36  37                         Yes                               Yes\n37  38                         NaN                                No\n38  39                          No                               Yes\n39  40                          No                                No\n",
          "output_type": "stream"
        }
      ],
      "execution_count": 37
    },
    {
      "cell_type": "code",
      "source": "#And then looking at which participants went from NA or no in the initial assessment to Yes in the second assessment",
      "metadata": {
        "trusted": true
      },
      "outputs": [],
      "execution_count": 38
    },
    {
      "cell_type": "code",
      "source": "participants_data.loc[participants_data['Employed (first assessment)'] != participants_data['Employed (most recent assessment)']]",
      "metadata": {
        "trusted": true
      },
      "outputs": [
        {
          "execution_count": 45,
          "output_type": "execute_result",
          "data": {
            "text/plain": "    ID  Start Date  Exit Date Date of first employment assessment  \\\n0    1  10/25/2023        NaN                                 NaN   \n2    3   9/12/2023        NaN                          11/20/2023   \n10  11   9/20/2023        NaN                          11/30/2023   \n14  15   9/21/2023        NaN                          12/28/2023   \n17  18   9/26/2023  4/25/2024                          10/25/2023   \n23  24   9/26/2023        NaN                          11/30/2023   \n26  27   10/9/2023  2/15/2024                          11/22/2023   \n29  30   10/4/2023        NaN                          12/28/2023   \n34  35  10/31/2023        NaN                          12/27/2023   \n37  38  11/29/2023        NaN                          12/20/2023   \n38  39   12/4/2023        NaN                           12/6/2023   \n\n   Employed (first assessment) Date of most recent employment assessment  \\\n0                          NaN                                       NaN   \n2                          Yes                                  4/1/2024   \n10                          No                                 5/22/2024   \n14                         Yes                                 5/15/2024   \n17                          No                                 4/29/2024   \n23                         NaN                                 5/15/2024   \n26                         Yes                                 2/22/2024   \n29                          No                                 5/21/2024   \n34                         NaN                                 5/15/2024   \n37                         NaN                                  4/3/2024   \n38                          No                                 5/15/2024   \n\n   Employed (most recent assessment)  \n0                                NaN  \n2                                 No  \n10                               Yes  \n14                                No  \n17                               NaN  \n23                               Yes  \n26                               NaN  \n29                               Yes  \n34                                No  \n37                                No  \n38                               Yes  ",
            "text/html": "<div>\n<style scoped>\n    .dataframe tbody tr th:only-of-type {\n        vertical-align: middle;\n    }\n\n    .dataframe tbody tr th {\n        vertical-align: top;\n    }\n\n    .dataframe thead th {\n        text-align: right;\n    }\n</style>\n<table border=\"1\" class=\"dataframe\">\n  <thead>\n    <tr style=\"text-align: right;\">\n      <th></th>\n      <th>ID</th>\n      <th>Start Date</th>\n      <th>Exit Date</th>\n      <th>Date of first employment assessment</th>\n      <th>Employed (first assessment)</th>\n      <th>Date of most recent employment assessment</th>\n      <th>Employed (most recent assessment)</th>\n    </tr>\n  </thead>\n  <tbody>\n    <tr>\n      <th>0</th>\n      <td>1</td>\n      <td>10/25/2023</td>\n      <td>NaN</td>\n      <td>NaN</td>\n      <td>NaN</td>\n      <td>NaN</td>\n      <td>NaN</td>\n    </tr>\n    <tr>\n      <th>2</th>\n      <td>3</td>\n      <td>9/12/2023</td>\n      <td>NaN</td>\n      <td>11/20/2023</td>\n      <td>Yes</td>\n      <td>4/1/2024</td>\n      <td>No</td>\n    </tr>\n    <tr>\n      <th>10</th>\n      <td>11</td>\n      <td>9/20/2023</td>\n      <td>NaN</td>\n      <td>11/30/2023</td>\n      <td>No</td>\n      <td>5/22/2024</td>\n      <td>Yes</td>\n    </tr>\n    <tr>\n      <th>14</th>\n      <td>15</td>\n      <td>9/21/2023</td>\n      <td>NaN</td>\n      <td>12/28/2023</td>\n      <td>Yes</td>\n      <td>5/15/2024</td>\n      <td>No</td>\n    </tr>\n    <tr>\n      <th>17</th>\n      <td>18</td>\n      <td>9/26/2023</td>\n      <td>4/25/2024</td>\n      <td>10/25/2023</td>\n      <td>No</td>\n      <td>4/29/2024</td>\n      <td>NaN</td>\n    </tr>\n    <tr>\n      <th>23</th>\n      <td>24</td>\n      <td>9/26/2023</td>\n      <td>NaN</td>\n      <td>11/30/2023</td>\n      <td>NaN</td>\n      <td>5/15/2024</td>\n      <td>Yes</td>\n    </tr>\n    <tr>\n      <th>26</th>\n      <td>27</td>\n      <td>10/9/2023</td>\n      <td>2/15/2024</td>\n      <td>11/22/2023</td>\n      <td>Yes</td>\n      <td>2/22/2024</td>\n      <td>NaN</td>\n    </tr>\n    <tr>\n      <th>29</th>\n      <td>30</td>\n      <td>10/4/2023</td>\n      <td>NaN</td>\n      <td>12/28/2023</td>\n      <td>No</td>\n      <td>5/21/2024</td>\n      <td>Yes</td>\n    </tr>\n    <tr>\n      <th>34</th>\n      <td>35</td>\n      <td>10/31/2023</td>\n      <td>NaN</td>\n      <td>12/27/2023</td>\n      <td>NaN</td>\n      <td>5/15/2024</td>\n      <td>No</td>\n    </tr>\n    <tr>\n      <th>37</th>\n      <td>38</td>\n      <td>11/29/2023</td>\n      <td>NaN</td>\n      <td>12/20/2023</td>\n      <td>NaN</td>\n      <td>4/3/2024</td>\n      <td>No</td>\n    </tr>\n    <tr>\n      <th>38</th>\n      <td>39</td>\n      <td>12/4/2023</td>\n      <td>NaN</td>\n      <td>12/6/2023</td>\n      <td>No</td>\n      <td>5/15/2024</td>\n      <td>Yes</td>\n    </tr>\n  </tbody>\n</table>\n</div>"
          },
          "metadata": {}
        }
      ],
      "execution_count": 45
    },
    {
      "cell_type": "code",
      "source": "#Out of all the participants who answered differentlly between the two assessments, 4 gained employment and 2 lost.",
      "metadata": {
        "trusted": true
      },
      "outputs": [],
      "execution_count": null
    }
  ]
}